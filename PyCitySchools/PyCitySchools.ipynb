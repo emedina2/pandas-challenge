{
 "cells": [
  {
   "cell_type": "code",
   "execution_count": null,
   "metadata": {},
   "outputs": [],
   "source": [
    "# Dependencies and Setup\n",
    "import pandas as pd\n",
    "import numpy as np\n",
    "\n",
    "# File to Load (Remember to Change These)\n",
    "school_data_to_load = \"../Resources/schools_complete.csv\"\n",
    "student_data_to_load = \"../Resources/students_complete.csv\"\n",
    "\n",
    "# Read School and Student Data File and store into Pandas DataFrames\n",
    "school_data = pd.read_csv(school_data_to_load)\n",
    "student_data = pd.read_csv(student_data_to_load)\n",
    "\n",
    "# Combine the data into a single dataset.  \n",
    "school_data_complete = pd.merge(student_data, school_data, how=\"left\", on=[\"school_name\", \"school_name\"])"
   ]
  },
  {
   "cell_type": "code",
   "execution_count": null,
   "metadata": {},
   "outputs": [],
   "source": [
    "#Calculate the total number of schools\n",
    "school_data_df = pd.DataFrame(school_data)\n",
    "totalschools = len(school_data_df[\"school_name\"])"
   ]
  },
  {
   "cell_type": "code",
   "execution_count": null,
   "metadata": {},
   "outputs": [],
   "source": [
    "#Calculate the total number of students\n",
    "totalstudents = len(school_data_complete[\"student_name\"])"
   ]
  },
  {
   "cell_type": "code",
   "execution_count": null,
   "metadata": {},
   "outputs": [],
   "source": [
    "#Calculate the total budget\n",
    "budgets = school_data_df[\"budget\"].sum()"
   ]
  },
  {
   "cell_type": "code",
   "execution_count": null,
   "metadata": {},
   "outputs": [],
   "source": [
    "#Calculate the average math score\n",
    "avg_math = school_data_complete[\"math_score\"].mean()"
   ]
  },
  {
   "cell_type": "code",
   "execution_count": null,
   "metadata": {},
   "outputs": [],
   "source": [
    "#Calculate the average reading score\n",
    "avg_read = school_data_complete[\"reading_score\"].mean()"
   ]
  },
  {
   "cell_type": "code",
   "execution_count": null,
   "metadata": {},
   "outputs": [],
   "source": [
    "#Calculate the percentage of students with a passing math score (70 or greater)\n",
    "passing_math = len(school_data_complete[school_data_complete[\"math_score\"] >= 70])\n",
    "total_pass_math_percent = passing_math/totalstudents * 100"
   ]
  },
  {
   "cell_type": "code",
   "execution_count": null,
   "metadata": {},
   "outputs": [],
   "source": [
    "#Calculate the percentage of students with a passing reading score (70 or greater)\n",
    "passing_read = len(school_data_complete[school_data_complete[\"reading_score\"] >= 70])\n",
    "total_read_pass_percent = passing_read/totalstudents * 100"
   ]
  },
  {
   "cell_type": "code",
   "execution_count": null,
   "metadata": {},
   "outputs": [],
   "source": [
    "#Calculate the percentage of students who passed math and reading (% Overall Passing)\n",
    "#overall_pass = np.where(school_data_complete[school_data_complete[\"reading_score\"] >= 70, [school_data_complete[\"math_score\"] >= 70]]).sum()\n",
    "passing_df = school_data_complete[school_data_complete[\"reading_score\"] >= 70]\n",
    "overall_pass = len(passing_df[passing_df[\"math_score\"]>= 70])\n",
    "overall_pass_percent = overall_pass/totalstudents * 100\n"
   ]
  },
  {
   "cell_type": "code",
   "execution_count": null,
   "metadata": {},
   "outputs": [],
   "source": [
    "#Create a dataframe to hold the above results\n",
    "District_Data = pd.DataFrame({\n",
    "    \"Total Schools\" : [totalschools],\n",
    "    \"Total Students\" : [totalstudents],\n",
    "    \"Total Budget\" : [budgets],\n",
    "    \"Average Math Score\" : [avg_math],\n",
    "    \"Average Reading Score\" : [avg_read],\n",
    "    \"% Passing Math\" : [total_pass_math_percent],\n",
    "    \"% Passing Reading\" : [total_read_pass_percent],\n",
    "    \"% Overall Passing\" : [overall_pass_percent]\n",
    "})"
   ]
  },
  {
   "cell_type": "code",
   "execution_count": null,
   "metadata": {},
   "outputs": [],
   "source": [
    "#Optional: give the displayed data cleaner formatting\n",
    "District_Data[\"Total Students\"] = District_Data[\"Total Students\"].astype(float).map(\"{:,.0f}\".format)\n",
    "District_Data[\"Total Budget\"] = District_Data[\"Total Budget\"].astype(float).map(\"${:,.2f}\".format)\n",
    "District_Data"
   ]
  },
  {
   "cell_type": "code",
   "execution_count": null,
   "metadata": {},
   "outputs": [],
   "source": [
    "#Create an overview table that summarizes key metrics about each school, including:\n",
    "#School Name, #School Type, #Total Students per school, #Total School Budget"
   ]
  },
  {
   "cell_type": "code",
   "execution_count": null,
   "metadata": {
    "scrolled": true
   },
   "outputs": [],
   "source": [
    "#Per Student Budget\n",
    "dollars_per_student = school_data['budget'] / school_data['size']"
   ]
  },
  {
   "cell_type": "code",
   "execution_count": null,
   "metadata": {},
   "outputs": [],
   "source": [
    "#Average Math Score\n",
    "math_scores = school_data_complete.groupby('School ID')['math_score'].mean()"
   ]
  },
  {
   "cell_type": "code",
   "execution_count": null,
   "metadata": {},
   "outputs": [],
   "source": [
    "#Average Reading Score\n",
    "reading_scores = school_data_complete.groupby('School ID')['reading_score'].mean()"
   ]
  },
  {
   "cell_type": "code",
   "execution_count": null,
   "metadata": {
    "scrolled": true
   },
   "outputs": [],
   "source": [
    "#% Passing Math\n",
    "schools_passing_math = school_data_complete.loc[school_data_complete['math_score']>=70]\n",
    "math_by_school = schools_passing_math.groupby('School ID')['math_score'].count()\n",
    "math_by_school_percent = math_by_school / school_data['size'] * 100"
   ]
  },
  {
   "cell_type": "code",
   "execution_count": null,
   "metadata": {},
   "outputs": [],
   "source": [
    "#% Passing Reading\n",
    "schools_passing_reading = school_data_complete.loc[school_data_complete['reading_score']>=70]\n",
    "reading_by_school = schools_passing_reading.groupby('School ID')['reading_score'].count()\n",
    "reading_by_school_percent = reading_by_school / school_data['size'] * 100"
   ]
  },
  {
   "cell_type": "code",
   "execution_count": null,
   "metadata": {
    "scrolled": true
   },
   "outputs": [],
   "source": [
    "#% Overall Passing (The percentage of students that passed math and reading.)\n",
    "overall_by_school = school_data_complete.loc[school_data_complete['math_score']>=70]\n",
    "overall_by_school = overall_by_school.loc[overall_by_school['reading_score']>=70]\n",
    "overall_by_school = overall_by_school.groupby('School ID')['reading_score'].count()\n",
    "overall_by_school_percent = overall_by_school / school_data['size'] * 100"
   ]
  },
  {
   "cell_type": "code",
   "execution_count": null,
   "metadata": {
    "scrolled": false
   },
   "outputs": [],
   "source": [
    "#Create a dataframe to hold the above results\n",
    "school_data_df['Per Student Spending'] = dollars_per_student\n",
    "school_data_df['Average Reading Score'] = reading_scores\n",
    "school_data_df['Average Math Score'] = math_scores\n",
    "school_data_df['Percent Passing Reading'] = reading_by_school_percent\n",
    "school_data_df['Percent Passing Math'] = math_by_school_percent\n",
    "school_data_df['Percent Overall Passing'] = overall_by_school_percent\n",
    "school_data_overview = school_data_df.sort_values('school_name').set_index('school_name')\n",
    "school_data_overview = school_data_overview.drop(columns=['School ID'])\n",
    "school_data_overview = school_data_overview.rename(columns={'type': \"School Type\",\n",
    "                                                          'size': \"Total Students\",\n",
    "                                                            'budget' :'Total School Budget'})\n",
    "school_data_overview['Total School Budget'] = school_data_overview['Total School Budget'].astype(float).map(\"${:,.2f}\".format)\n",
    "school_data_overview['Per Student Spending'] = school_data_overview['Per Student Spending'].astype(float).map(\"${:,.2f}\".format)\n",
    "school_data_overview = school_data_overview.rename_axis('School Name')\n",
    "school_data_overview"
   ]
  },
  {
   "cell_type": "code",
   "execution_count": null,
   "metadata": {},
   "outputs": [],
   "source": [
    "#Top Performing Schools (By % Overall Passing)\n",
    "top_5_df = school_data_df.sort_values('Percent Overall Passing', ascending = False).set_index('school_name').head(5)\n",
    "top_5_df = top_5_df.drop(columns=['School ID'])\n",
    "top_5_df = top_5_df.rename(columns={'budget': 'Total School Budget', 'type': 'School Type', 'size': \"Total Students\"})\n",
    "top_5_df['Total School Budget'] = top_5_df['Total School Budget'].astype(float).map(\"${:,.2f}\".format)\n",
    "top_5_df['Per Student Spending'] = top_5_df['Per Student Spending'].astype(float).map(\"${:,.2f}\".format)\n",
    "top_5_df = top_5_df.rename_axis('School Name')\n",
    "top_5_df"
   ]
  },
  {
   "cell_type": "code",
   "execution_count": null,
   "metadata": {},
   "outputs": [],
   "source": [
    "#Bottom Performing Schools (By % Overall Passing)\n",
    "bottom_5_df = school_data_df.sort_values('Percent Overall Passing', ascending = True).set_index('school_name').head(5)\n",
    "bottom_5_df = bottom_5_df.drop(columns=['School ID'])\n",
    "bottom_5_df = bottom_5_df.rename(columns={'budget': 'Total School Budget', 'type': 'School Type', 'size': \"Total Students\"})\n",
    "bottom_5_df['Total School Budget'] = bottom_5_df['Total School Budget'].astype(float).map(\"${:,.2f}\".format)\n",
    "bottom_5_df['Per Student Spending'] = bottom_5_df['Per Student Spending'].astype(float).map(\"${:,.2f}\".format)\n",
    "bottom_5_df = bottom_5_df.rename_axis('School Name')\n",
    "bottom_5_df"
   ]
  },
  {
   "cell_type": "code",
   "execution_count": null,
   "metadata": {},
   "outputs": [],
   "source": [
    "#Math Scores by Grade**\n",
    "#Create a table that lists the average Math Score for students of each grade level (9th, 10th, 11th, 12th) at each school.\n",
    "ninth_math = school_data_complete.loc[school_data_complete['grade']=='9th']\n",
    "ninth_math= ninth_math.groupby('school_name')['math_score'].mean()\n",
    "tenth_math = school_data_complete.loc[school_data_complete['grade']=='10th']\n",
    "tenth_math = tenth_math.groupby('school_name')['math_score'].mean()\n",
    "eleventh_math = school_data_complete.loc[school_data_complete['grade']=='11th']\n",
    "eleventh_math = eleventh_math.groupby('school_name')['math_score'].mean()\n",
    "twelveth_math = school_data_complete.loc[school_data_complete['grade']=='12th']\n",
    "twelveth_math = twelveth_math.groupby('school_name')['math_score'].mean()\n",
    "math_scores = pd.DataFrame({\n",
    "    \"9th\" : ninth_math, \n",
    "    \"10th\" : tenth_math,\n",
    "    \"11th\": eleventh_math, \n",
    "    \"12th\" : twelveth_math})\n",
    "math_scores = math_scores.rename_axis('School Name')\n",
    "math_scores"
   ]
  },
  {
   "cell_type": "code",
   "execution_count": null,
   "metadata": {},
   "outputs": [],
   "source": [
    "#Reading Scores by Grade\n",
    "ninth_reading = school_data_complete.loc[school_data_complete['grade']=='9th']\n",
    "ninth_reading = ninth_reading.groupby('school_name')['reading_score'].mean()\n",
    "tenth_reading = school_data_complete.loc[school_data_complete['grade']=='10th']\n",
    "tenth_reading = tenth_reading.groupby('school_name')['reading_score'].mean()\n",
    "eleventh_reading = school_data_complete.loc[school_data_complete['grade']=='11th']\n",
    "eleventh_reading = eleventh_reading.groupby('school_name')['reading_score'].mean()\n",
    "twelveth_reading = school_data_complete.loc[school_data_complete['grade']=='12th']\n",
    "twelveth_reading = twelveth_reading.groupby('school_name')['reading_score'].mean()\n",
    "reading_scores = pd.DataFrame({\n",
    "    \"9th\" : ninth_reading, \n",
    "    \"10th\" : tenth_reading,\n",
    "    \"11th\": eleventh_reading, \n",
    "    \"12th\" : twelveth_reading})\n",
    "reading_scores = reading_scores.rename_axis('School Name')\n",
    "reading_scores"
   ]
  },
  {
   "cell_type": "code",
   "execution_count": null,
   "metadata": {
    "scrolled": true
   },
   "outputs": [],
   "source": [
    "#Scores by School Spending\n",
    "#\t• Create a table that breaks down school performances based on average Spending Ranges (Per Student). Use 4 reasonable bins to group school spending. Include in the table each of the following: \n",
    "#\t\t○ Average Math Score\n",
    "#\t\t○ Average Reading Score\n",
    "#\t\t○ % Passing Math (The percentage of students that passed math.)\n",
    "#\t\t○ % Passing Reading (The percentage of students that passed reading.)\n",
    "#\t\t○ % Overall Passing (The percentage of students that passed math and reading.)\n",
    "spending_by_school_df = school_data_df\n",
    "spending_by_school_df['Average Spending Per Student'] = dollars_per_student"
   ]
  },
  {
   "cell_type": "code",
   "execution_count": null,
   "metadata": {
    "scrolled": true
   },
   "outputs": [],
   "source": [
    "money_labels = (\"< $597\", \"\\$597-\\$616\", \"\\$616-\\$635\", \"\\$635-\\$655\" )\n",
    "spending_by_school_df['Spending'] = pd.cut(spending_by_school_df['Average Spending Per Student'], bins = 4, labels = money_labels)\n",
    "spending_by_school = spending_by_school_df.groupby('Spending').mean()\n",
    "spending_by_school = spending_by_school[['Average Reading Score', 'Average Math Score', 'Percent Passing Math', 'Percent Passing Reading', 'Percent Overall Passing']]\n",
    "spending_by_school = spending_by_school.rename_axis('Spending Ranges (Per Student)')\n",
    "spending_by_school"
   ]
  },
  {
   "cell_type": "code",
   "execution_count": null,
   "metadata": {
    "scrolled": true
   },
   "outputs": [],
   "source": [
    "#Scores by School Size\n",
    "#\t• Repeat the above breakdown, but this time group schools based on a reasonable approximation of school size (Small, Medium, Large)."
   ]
  },
  {
   "cell_type": "code",
   "execution_count": null,
   "metadata": {},
   "outputs": [],
   "source": [
    "size_labels = (\"Small (<1950)\",\"Medium (1950 - 3450)\", \"Large (3450 - 5000)\" )\n",
    "bins = (0, 1950, 3450, 5000)"
   ]
  },
  {
   "cell_type": "code",
   "execution_count": null,
   "metadata": {},
   "outputs": [],
   "source": [
    "spending_by_school_df['School Size'] = pd.cut(spending_by_school_df['size'], bins, labels = size_labels)\n",
    "grading_by_size= spending_by_school_df.groupby('School Size').mean()\n",
    "grading_by_size = grading_by_size[['Average Reading Score', 'Average Math Score', 'Percent Passing Math', 'Percent Passing Reading', 'Percent Overall Passing']]\n",
    "grading_by_size"
   ]
  },
  {
   "cell_type": "code",
   "execution_count": null,
   "metadata": {},
   "outputs": [],
   "source": [
    "#Scores by School Type\n",
    "#\t• Repeat the above breakdown, but this time group schools based on school type (Charter vs. District).\n",
    "grading_by_type = school_data_df.groupby('type').mean()\n",
    "grading_by_type = grading_by_type[['Average Math Score', 'Average Reading Score','Percent Passing Math', 'Percent Passing Reading', 'Percent Overall Passing']]\n",
    "grading_by_type=grading_by_type.rename_axis('School Type')\n",
    "grading_by_type"
   ]
  },
  {
   "cell_type": "code",
   "execution_count": null,
   "metadata": {},
   "outputs": [],
   "source": [
    "print('\\033[1m' + \"Observable Trends\" + '\\033[0m')\n",
    "print(\"Students in schools with smaller student sizes tend to have higher overall scores.\")\n",
    "print(\"Students in schools where spending is lower per student seem to have better scores than those in schools with more spending per student.\")\n",
    "print(\"Students in Charter schools tend to perform better overall than those in District Schools.\")"
   ]
  },
  {
   "cell_type": "code",
   "execution_count": null,
   "metadata": {},
   "outputs": [],
   "source": []
  }
 ],
 "metadata": {
  "kernelspec": {
   "display_name": "Python 3",
   "language": "python",
   "name": "python3"
  },
  "language_info": {
   "codemirror_mode": {
    "name": "ipython",
    "version": 3
   },
   "file_extension": ".py",
   "mimetype": "text/x-python",
   "name": "python",
   "nbconvert_exporter": "python",
   "pygments_lexer": "ipython3",
   "version": "3.8.5"
  }
 },
 "nbformat": 4,
 "nbformat_minor": 4
}
